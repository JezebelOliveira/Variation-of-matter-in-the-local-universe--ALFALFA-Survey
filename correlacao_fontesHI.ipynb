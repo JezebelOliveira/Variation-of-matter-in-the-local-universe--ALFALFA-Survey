{
 "cells": [
  {
   "cell_type": "code",
   "execution_count": 1,
   "metadata": {},
   "outputs": [],
   "source": [
    "#Carregando principais bibliotecas\n",
    "\n",
    "import numpy as np\n",
    "import matplotlib.pyplot as plt\n",
    "import treecorr as tr\n",
    "from astropy.coordinates import cartesian_to_spherical"
   ]
  },
  {
   "cell_type": "code",
   "execution_count": 2,
   "metadata": {},
   "outputs": [],
   "source": [
    "#Importando o catálogo ALFALFA\n",
    "\n",
    "data = tr.Catalog('data.dat', x_col='x', y_col='y', z_col='z')\n",
    "\n",
    "#Importando o catálogo aleatório\n",
    "rand = tr.Catalog('random_HI.dat', x_col='x', y_col='y', z_col='z')"
   ]
  },
  {
   "cell_type": "code",
   "execution_count": 3,
   "metadata": {},
   "outputs": [
    {
     "data": {
      "image/png": "[encoded data removed]",
      "text/plain": [
       "<Figure size 640x480 with 1 Axes>"
      ]
     },
     "metadata": {},
     "output_type": "display_data"
    }
   ],
   "source": [
    "#Calculando as funções de correlação\n",
    "\n",
    "dd = tr.NNCorrelation(min_sep=0.5, max_sep=15., nbins=20)\n",
    "dd.process(data)\n",
    "\n",
    "rr = tr.NNCorrelation(min_sep=0.5, max_sep=15., nbins=20)\n",
    "rr.process(rand)\n",
    "\n",
    "dr = tr.NNCorrelation(min_sep=0.5, max_sep=15., nbins=20)\n",
    "dr.process(data, rand)\n",
    "\n",
    "r = dd.rnom\n",
    "\n",
    "#Contando o numero de pares\n",
    "DD = dr.npairs\n",
    "\n",
    "#Calculo da função de correlação e obtendo a covariância\n",
    "\n",
    "xi, varxi = dd.calculateXi(rr=rr, dr=dr)\n",
    "\n",
    "cov = dd.cov\n",
    "\n",
    "#Salvando os resultados\n",
    "\n",
    "S1 = r, xi\n",
    "    \n",
    "np.savetxt('xi.dat', np.transpose(S1), delimiter='\\t')   \n",
    "np.savetxt('cov.txt', cov)\n",
    "\n",
    "#Plot da função de correlação\n",
    "\n",
    "plt.loglog()\n",
    "# plt.xlim(0, 20)\n",
    "# plt.ylim(-0.5, 5)\n",
    "plt.errorbar(r, xi, yerr=np.sqrt(np.diag(cov)), fmt='s', color='blue')\n",
    "plt.scatter(r, xi, marker='s', color='blue')\n",
    "plt.ylabel('$\\\\xi(r)$')\n",
    "plt.xlabel('$r$')\n",
    "plt.savefig('tpcf.pdf', bbox_inches='tight', pad_inches = 0.1)\n",
    "plt.show()"
   ]
  },
  {
   "cell_type": "code",
   "execution_count": null,
   "metadata": {},
   "outputs": [],
   "source": []
  }
 ],
 "metadata": {
  "kernelspec": {
   "display_name": "base",
   "language": "python",
   "name": "python3"
  },
  "language_info": {
   "codemirror_mode": {
    "name": "ipython",
    "version": 3
   },
   "file_extension": ".py",
   "mimetype": "text/x-python",
   "name": "python",
   "nbconvert_exporter": "python",
   "pygments_lexer": "ipython3",
   "version": "3.11.7"
  }
 },
 "nbformat": 4,
 "nbformat_minor": 2
}
